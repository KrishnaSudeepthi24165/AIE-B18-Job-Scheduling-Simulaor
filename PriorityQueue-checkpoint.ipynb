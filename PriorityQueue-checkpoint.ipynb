{
 "cells": [
  {
   "cell_type": "code",
   "execution_count": 12,
   "id": "521e167f-2d40-405a-90e5-cdaa5f0fb714",
   "metadata": {},
   "outputs": [],
   "source": [
    "class Node:\n",
    "    def __init__(self, data, priority):\n",
    "        self.data = data       \n",
    "        self.priority = priority\n",
    "        self.next = None       \n",
    "class TaskScheduler:\n",
    "    def __init__(self):\n",
    "        self.head = None\n",
    "        \n",
    "    def insertEnd(self, data,priority):\n",
    "         new_node = Node(data,priority)\n",
    "         if self.head is None:\n",
    "             self.head = new_node\n",
    "             return\n",
    "         elif self.head.priority < priority:\n",
    "             new_node.next = self.head\n",
    "             self.head = new_node\n",
    "         else:\n",
    "             temp = self.head\n",
    "             while temp.next and temp.next.priority >= priority:\n",
    "                 temp = temp.next\n",
    "             new_node.next = temp.next\n",
    "             temp.next = new_node\n",
    "\n",
    "    def deleteBeginning(self):\n",
    "        if self.head is None:\n",
    "            return\n",
    "        main = self.head\n",
    "        self.head = self.head.next\n",
    "        return main.data\n",
    "\n",
    "    def is_empty(self):\n",
    "        return self.head is None\n",
    "\n",
    "    def get_first(self):\n",
    "        if self.is_empty():\n",
    "            return None\n",
    "        return self.head.value\n",
    "\n",
    "     def __str__(self):\n",
    "        elements = []\n",
    "        current = self.head\n",
    "        while current:\n",
    "            elements.append(current.value)\n",
    "            current = current.next\n",
    "        return str(elements)\n",
    "    \n",
    "    "
   ]
  },
  {
   "cell_type": "code",
   "execution_count": 13,
   "id": "63cc20a9-0f77-4bfc-b5ee-ed8fd6787271",
   "metadata": {},
   "outputs": [],
   "source": [
    "class PriorityQueue:\n",
    "    def __init__(self):\n",
    "        self.taskscheduler = TaskSchedular()\n",
    "\n",
    "    def Enqueue(self,data,priority):\n",
    "        self.taskscheduler.insertEnd(data,priority)\n",
    "        \n",
    "    def Dequeue(self):\n",
    "        self.taskscheduler.deleteBeginning()\n",
    "        \n",
    "    def peek(self):\n",
    "        return self.taskscheduler.get_first()\n",
    "    \n",
    "    def is_empty(self):\n",
    "        return self.taskscheduler.is_empty()\n",
    "    \n",
    "   "
   ]
  },
  {
   "cell_type": "code",
   "execution_count": 18,
   "id": "5606450e-baa2-4ea5-86e7-3feec6e28c52",
   "metadata": {},
   "outputs": [
    {
     "ename": "NameError",
     "evalue": "name 'TaskSchedular' is not defined",
     "output_type": "error",
     "traceback": [
      "\u001b[1;31m---------------------------------------------------------------------------\u001b[0m",
      "\u001b[1;31mNameError\u001b[0m                                 Traceback (most recent call last)",
      "Cell \u001b[1;32mIn[18], line 1\u001b[0m\n\u001b[1;32m----> 1\u001b[0m \u001b[38;5;28mself\u001b[39m\u001b[38;5;241m.\u001b[39mpq \u001b[38;5;241m=\u001b[39m \u001b[43mPriorityQueue\u001b[49m\u001b[43m(\u001b[49m\u001b[43m)\u001b[49m\n\u001b[0;32m      2\u001b[0m pq\u001b[38;5;241m.\u001b[39mEnqueue(\u001b[38;5;124m\"\u001b[39m\u001b[38;5;124mTask 1\u001b[39m\u001b[38;5;124m\"\u001b[39m, \u001b[38;5;241m1\u001b[39m)  \u001b[38;5;66;03m# Lower priority\u001b[39;00m\n\u001b[0;32m      3\u001b[0m pq\u001b[38;5;241m.\u001b[39mEnqueue(\u001b[38;5;124m\"\u001b[39m\u001b[38;5;124mTask 2\u001b[39m\u001b[38;5;124m\"\u001b[39m, \u001b[38;5;241m2\u001b[39m)  \u001b[38;5;66;03m# Higher priority\u001b[39;00m\n",
      "Cell \u001b[1;32mIn[13], line 3\u001b[0m, in \u001b[0;36mPriorityQueue.__init__\u001b[1;34m(self)\u001b[0m\n\u001b[0;32m      2\u001b[0m \u001b[38;5;28;01mdef\u001b[39;00m\u001b[38;5;250m \u001b[39m\u001b[38;5;21m__init__\u001b[39m(\u001b[38;5;28mself\u001b[39m):\n\u001b[1;32m----> 3\u001b[0m     \u001b[38;5;28mself\u001b[39m\u001b[38;5;241m.\u001b[39mtaskscheduler \u001b[38;5;241m=\u001b[39m \u001b[43mTaskSchedular\u001b[49m()\n",
      "\u001b[1;31mNameError\u001b[0m: name 'TaskSchedular' is not defined"
     ]
    }
   ],
   "source": []
  },
  {
   "cell_type": "code",
   "execution_count": null,
   "id": "25b0c8b8-6517-4393-94aa-8d716394f921",
   "metadata": {},
   "outputs": [],
   "source": []
  }
 ],
 "metadata": {
  "kernelspec": {
   "display_name": "Python 3 (ipykernel)",
   "language": "python",
   "name": "python3"
  },
  "language_info": {
   "codemirror_mode": {
    "name": "ipython",
    "version": 3
   },
   "file_extension": ".py",
   "mimetype": "text/x-python",
   "name": "python",
   "nbconvert_exporter": "python",
   "pygments_lexer": "ipython3",
   "version": "3.11.4"
  }
 },
 "nbformat": 4,
 "nbformat_minor": 5
}
